{
 "cells": [
  {
   "cell_type": "code",
   "execution_count": 1,
   "id": "07faf9c0",
   "metadata": {},
   "outputs": [],
   "source": [
    "import numpy as np\n",
    "import cv2"
   ]
  },
  {
   "cell_type": "code",
   "execution_count": 2,
   "id": "b661a660",
   "metadata": {},
   "outputs": [
    {
     "name": "stdout",
     "output_type": "stream",
     "text": [
      "1\n"
     ]
    },
    {
     "data": {
      "text/plain": [
       "-1"
      ]
     },
     "execution_count": 2,
     "metadata": {},
     "output_type": "execute_result"
    }
   ],
   "source": [
    "image = cv2.imread(\"img/Lupus.jpg\")\n",
    "original = image.copy()\n",
    "image = cv2.cvtColor(image, cv2.COLOR_BGR2HSV)\n",
    "\n",
    "lower = np.array([155,25,0], dtype=\"uint8\")\n",
    "upper = np.array([179,255,255], dtype=\"uint8\")\n",
    "mask = cv2.inRange(image, lower, upper)\n",
    "\n",
    "cnts = cv2.findContours(mask, cv2.RETR_EXTERNAL, cv2.CHAIN_APPROX_SIMPLE)\n",
    "cnts = cnts[0] if len(cnts) == 2 else cnts[1]\n",
    "\n",
    "yellow = []\n",
    "for c in cnts:\n",
    "    if 800 < cv2.contourArea(c):\n",
    "        cv2.drawContours(original, [c], -1, (220, 20, 60), 2)\n",
    "        yellow.append(c)\n",
    "\n",
    "print(len(yellow))\n",
    "cv2.imshow('mask', mask)\n",
    "cv2.imshow('original', original)\n",
    "cv2.waitKey()"
   ]
  },
  {
   "cell_type": "code",
   "execution_count": null,
   "id": "d5c11395",
   "metadata": {},
   "outputs": [],
   "source": []
  }
 ],
 "metadata": {
  "kernelspec": {
   "display_name": "Python 3",
   "language": "python",
   "name": "python3"
  },
  "language_info": {
   "codemirror_mode": {
    "name": "ipython",
    "version": 3
   },
   "file_extension": ".py",
   "mimetype": "text/x-python",
   "name": "python",
   "nbconvert_exporter": "python",
   "pygments_lexer": "ipython3",
   "version": "3.6.13"
  }
 },
 "nbformat": 4,
 "nbformat_minor": 5
}
