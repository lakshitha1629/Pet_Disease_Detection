{
 "cells": [
  {
   "cell_type": "code",
   "execution_count": null,
   "id": "5b936eef",
   "metadata": {},
   "outputs": [],
   "source": []
  },
  {
   "cell_type": "code",
   "execution_count": null,
   "id": "7c66ea42",
   "metadata": {},
   "outputs": [],
   "source": [
    "value = ['a', 'b', 'c']\n",
    "set(value).issubset(set(['a', 'b', 'foo', 'bar']))"
   ]
  },
  {
   "cell_type": "code",
   "execution_count": null,
   "id": "2922b66a",
   "metadata": {},
   "outputs": [],
   "source": [
    "value = ['a', 'b', 'c']\n",
    "\n",
    "for item in value:\n",
    "    if(set(item).issubset(set(['a', 'b', 'foo', 'bar']))):\n",
    "        print (\"aa\");"
   ]
  },
  {
   "cell_type": "code",
   "execution_count": null,
   "id": "5ba067a2",
   "metadata": {},
   "outputs": [],
   "source": [
    "preValueList = ['Shaggy coat','Intestinal compliations']\n",
    "valueList = [x.replace(' ', '') for x in valueList]\n",
    "print(valueList)\n",
    "outputList = []\n",
    "\n",
    "for item in valueList:\n",
    "    print(item)\n",
    "    if(set(item).issubset(set(['Inflamedskin', 'Ringlikelesionsontheskin', 'Itchiness', 'Hairlesspatches', 'Crustylesionsontheskin']))):\n",
    "        outputList.append(\"Feline Ringworms\")\n",
    "        \n",
    "    elif(set(item).issubset(set(['Hairloss', 'Itchiness', 'Flakyskin', 'Irritatedskin', 'Redskin']))):\n",
    "        outputList.append(\"Feline Mange\")\n",
    "        \n",
    "    elif(set(item).issubset(set(['Diarrhea', 'Emaciation', 'Seizures', 'Shaggycoat', 'Lossofappetite', 'Failuretothrive', 'Lossofappetite', 'Intestinalblockages', 'Intestinalcompliations', 'Tapewormsinfeces']))):\n",
    "        outputList.append(\"Feline Mange\")\n",
    "        \n",
    "    elif(set(item).issubset(set(['Hairloss', 'Itchiness', 'Flakyskin', 'Irritatedskin', 'Redskin']))):\n",
    "        outputList.append(\"Feline Mange\")\n",
    "        \n",
    "    elif(set(item).issubset(set(['Hairloss', 'Itchiness', 'Flakyskin', 'Irritatedskin', 'Redskin']))):\n",
    "        outputList.append(\"Feline Mange\")\n",
    "        \n",
    "        \n",
    "print(outputList)"
   ]
  },
  {
   "cell_type": "code",
   "execution_count": null,
   "id": "7c8e9495",
   "metadata": {},
   "outputs": [],
   "source": [
    "data_string = \"The last season of Game of Thrones was not good\"\n",
    "\n",
    "listA = ['Stranger Things', 'S Education', 'Game of Thrones']\n",
    "\n",
    "res = [ele for ele in ['Diarrhea', 'Emaciation', 'Seizures', 'Shaggycoat', 'Lossofappetite', 'Failuretothrive', 'Lossofappetite', 'Intestinalblockages', 'Intestinalcompliations', 'Tapewormsinfeces'] if(ele in data_string)]\n",
    "\n",
    "print(\"Does string contain any list element : \" + str(bool(res)))"
   ]
  },
  {
   "cell_type": "code",
   "execution_count": 25,
   "id": "0df67deb",
   "metadata": {},
   "outputs": [
    {
     "name": "stdout",
     "output_type": "stream",
     "text": [
      "['Canine Impetigo']\n"
     ]
    }
   ],
   "source": [
    "preValueList = ['Rash']\n",
    "valueList = [x.replace(' ', '') for x in preValueList]\n",
    "outputList = []\n",
    "\n",
    "for item in valueList:\n",
    "    if([ele1 for ele1 in ['Diarrhea', 'Emaciation', 'Seizures', 'Lossofappetite', 'Failuretothrive', 'Lossofappetite', 'Intestinalblockages', 'Intestinalcompliations', 'Tapewormsinfeces'] if(ele1 in item)]):\n",
    "        outputList.append(\"Feline Ringworms\")\n",
    "        \n",
    "    elif([ele for ele in ['Hairloss', 'Itchiness', 'Flakyskin', 'Irritatedskin', 'Redskin']if(ele in item)]):\n",
    "        outputList.append(\"Feline Mange\")\n",
    "        \n",
    "    elif([ele2 for ele2 in ['Diarrhea', 'Emaciation', 'Seizures', 'Shaggycoat', 'Lossofappetite', 'Failuretothrive', 'Lossofappetite', 'Intestinalblockages', 'Intestinalcompliations', 'Tapewormsinfeces'] if(ele2 in item)]):\n",
    "        outputList.append(\"Feline Tapeworms\")\n",
    "        \n",
    "    elif([ele3 for ele3 in ['Ascites(Swellingofabdomen)', 'Lethargy', 'Lossofappetite', 'Increasedthrist', 'Frequenturination', 'Weightloss', 'Vomiting', 'Diarrhea', 'Diarrhea', 'Yellowskin', 'Yelloweyes', 'Yellowgums', 'Excessivedrooling'] if(ele3 in item)]):\n",
    "        outputList.append(\"Feline Liver Disease\")\n",
    "        \n",
    "    elif([ele4 for ele4 in ['Strainingtourinate', 'Urinatingsmallamounts', 'Frequentattemptstourinate', 'Prolongedattemptstourinate', 'Cryingoutwhileurinating', 'Excessivelickingofgenitalareas', 'Urinatingoutsidethelitterbox', 'Bloodinurine', 'Distress'] if(ele4 in item)]):\n",
    "        outputList.append(\"Feline Lower Urinary Tract Disease (FLUTD)\")\n",
    "               \n",
    "    elif([ele5 for ele5 in ['Fever', 'Lethargy', 'Lossofappetite', 'Weakness', 'Paralysisofhindlegs', 'Seizures', 'Drooling', 'Aggression', 'Depression', 'Coma', 'Lossofmusclecontrol', 'Foamingatmouth', 'Suddendeath'] if(ele5 in item)]):\n",
    "        outputList.append(\"Feline Rabies\")\n",
    "        \n",
    "    elif([ele6 for ele6 in ['Anemia', 'Fever', 'Lethargy', 'Lossofappetite', 'Weightloss', 'Musclestiffness', 'Fever', 'Jointpain', 'Swellinginjoints', 'Increasedthirst', 'Frequenturination', 'Ulcer', 'Twitching', 'Seizures', 'Twitching', 'Hairloss', 'Skincolorchanges', 'Crustyskin'] if(ele6 in item)]):\n",
    "        outputList.append(\"Canine Lupus\")\n",
    "           \n",
    "    elif([ele7 for ele7 in ['Pimple-likelesions', 'Acne', 'Rash', 'Inflamedskin', 'Pusfilledblisters', 'Hairloss', 'Crustyskin', 'Scratchinginfectedareas', 'Lickinginfectedareas', 'Bitinginfectedareas', 'Depression', 'Weightloss'] if(ele7 in item)]):\n",
    "        outputList.append(\"Canine Impetigo\")\n",
    "                \n",
    "    elif([ele8 for ele8 in ['Hairloss', 'Irritatedskin', 'Rash', 'Thickyellowcrusts', 'Bacteriainfection', 'Yeastinfection', 'Itchiness', 'Thickeningofskin', 'Lymphnodeinflammation', 'Emaciation'] if(ele8 in item)]):\n",
    "        outputList.append(\"Canine Mange\")\n",
    "            \n",
    "    elif([ele for ele in ['Coughing', 'Dyspnea', 'Pneumonia', 'Diarrhea', 'Vomiting', 'Purulentnasaldischarge', 'Enamelhypoplasia', 'Hyperkeratosis', 'Circling', 'Headtilt', 'Nystagmus', 'Partialparalysis', 'Completeparalysis', 'Convulsion', 'Dementia', 'Involuntaryjerkytwitching', 'Musclescontraction', 'Convulsioncontraction'] if(ele in item)]):\n",
    "        outputList.append(\"Canine Distemper\")\n",
    "              \n",
    "    elif([ele for ele in ['Lossofappetite', 'Abdominalpain', 'Abdominalbloating', 'Bloodydiarrhea', 'Diarrhea', 'Vomiting', 'Dehydration'] if(ele in item)]):\n",
    "        outputList.append(\"Canine Parvovirus\")\n",
    "        \n",
    "    elif([ele for ele in ['Laboredbreathing', 'Coughing', 'Vomiting', 'Weightloss', 'Weakness', 'Coughing', 'Fatigue'] if(ele in item)]):\n",
    "        outputList.append(\"Canine Heartworm\")\n",
    "        \n",
    "        \n",
    "        \n",
    "    elif([ele for ele in ['Restlessness', 'Aggression', 'Irritability', 'Apprehension', 'Biting', 'Snappingatanyformofstimulus', 'Licking', 'Chewing', 'Fever', 'Hidingindarkplaces', 'Eatingunusualobjects', 'Paralysisofthroat', 'Paralysisofthroat', 'Paralysisofjawmuscles', 'Foamingatmouth', 'Disorientation', 'Incoordination', 'Staggering', 'Paralysisofhindlegs', 'Lossofappetite', 'Weakness', 'Seizures', 'Suddendeath'] if(ele in item)]):\n",
    "        outputList.append(\"Canine Rabies\")\n",
    "    else:\n",
    "        outputList.append(\"out of range\")\n",
    "    \n",
    "\n",
    "        \n",
    "        \n",
    "print(outputList)"
   ]
  },
  {
   "cell_type": "code",
   "execution_count": 22,
   "id": "282cde6a",
   "metadata": {},
   "outputs": [
    {
     "data": {
      "text/plain": [
       "'Urinatingoutsidethelitterbox'"
      ]
     },
     "execution_count": 22,
     "metadata": {},
     "output_type": "execute_result"
    }
   ],
   "source": [
    "s=\"Urinating outside the litter box\"\n",
    "s.replace(\" \", \"\")"
   ]
  },
  {
   "cell_type": "code",
   "execution_count": null,
   "id": "ff87dd2d",
   "metadata": {},
   "outputs": [],
   "source": [
    "preValueList = ['Vomiting']\n",
    "valueList = [x.replace(' ', '') for x in preValueList]\n",
    "outputList = []\n",
    "\n",
    "for item in valueList:\n",
    "    if([ele for ele in ['Diarrhea', 'Emaciation', 'Seizures', 'Lossofappetite', 'Failuretothrive', 'Lossofappetite', 'Intestinalblockages', 'Intestinalcompliations', 'Tapewormsinfeces'] if(ele in item)]):\n",
    "        outputList.append(\"Feline Ringworms\")\n",
    "        \n",
    "    elif([ele for ele in ['Hairloss', 'Itchiness', 'Flakyskin', 'Irritatedskin', 'Redskin']if(ele in item)]):\n",
    "        outputList.append(\"Feline Mange\")\n",
    "        \n",
    "    elif([ele for ele in ['Diarrhea', 'Emaciation', 'Seizures', 'Shaggycoat', 'Lossofappetite', 'Failuretothrive', 'Lossofappetite', 'Intestinalblockages', 'Intestinalcompliations', 'Tapewormsinfeces'] if(ele in item)]):\n",
    "        outputList.append(\"Feline Tapeworms\")\n",
    "        \n",
    "    elif([ele for ele in ['Ascites(Swellingofabdomen)', 'Lethargy', 'Lossofappetite', 'Increasedthrist', 'Frequenturination', 'Weightloss', 'Vomiting', 'Diarrhea', 'Diarrhea', 'Yellowskin', 'Yelloweyes', 'Yellowgums', 'Excessivedrooling'] if(ele in item)]):\n",
    "        outputList.append(\"Feline Liver Disease\")\n",
    "        \n",
    "    elif([ele for ele in ['Strainingtourinate', 'Urinatingsmallamounts', 'Frequentattemptstourinate', 'Prolongedattemptstourinate', 'Cryingoutwhileurinating', 'Excessivelickingofgenitalareas', 'Urinatingoutsidethelitterbox', 'Bloodinurine', 'Distress'] if(ele in item)]):\n",
    "        outputList.append(\"Feline Lower Urinary Tract Disease (FLUTD)\")\n",
    "               \n",
    "    elif([ele for ele in ['Fever', 'Lethargy', 'Lossofappetite', 'Weakness', 'Paralysisofhindlegs', 'Seizures', 'Drooling', 'Aggression', 'Depression', 'Coma', 'Lossofmusclecontrol', 'Foamingatmouth', 'Suddendeath'] if(ele in item)]):\n",
    "        outputList.append(\"Feline Rabies\")\n",
    "        \n",
    "    elif([ele for ele in ['Anemia', 'Fever', 'Lethargy', 'Lossofappetite', 'Weightloss', 'Musclestiffness', 'Fever', 'Jointpain', 'Swellinginjoints', 'Increasedthirst', 'Frequenturination', 'Ulcer', 'Twitching', 'Seizures', 'Twitching', 'Hairloss', 'Skincolorchanges', 'Crustyskin'] if(ele in item)]):\n",
    "        outputList.append(\"Canine Lupus\")\n",
    "           \n",
    "    elif([ele for ele in ['Pimple-likelesions', 'Acne', 'Rash', 'Inflamedskin', 'Pusfilledblisters', 'Hairloss', 'Crustyskin', 'Scratchinginfectedareas', 'Lickinginfectedareas', 'Bitinginfectedareas', 'Depression', 'Weightloss'] if(ele in item)]):\n",
    "        outputList.append(\"Canine Impetigo\")\n",
    "                \n",
    "    elif([ele for ele in ['Hairloss', 'Irritatedskin', 'Rash', 'Thickyellowcrusts', 'Bacteriainfection', 'Yeastinfection', 'Itchiness', 'Thickeningofskin', 'Lymphnodeinflammation', 'Emaciation'] if(ele in item)]):\n",
    "        outputList.append(\"Canine Mange\")\n",
    "            \n",
    "    elif([ele for ele in ['Coughing', 'Dyspnea', 'Pneumonia', 'Diarrhea', 'Vomiting', 'Purulentnasaldischarge', 'Enamelhypoplasia', 'Hyperkeratosis', 'Circling', 'Headtilt', 'Nystagmus', 'Partialparalysis', 'Completeparalysis', 'Convulsion', 'Dementia', 'Involuntaryjerkytwitching', 'Musclescontraction', 'Convulsioncontraction'] if(ele in item)]):\n",
    "        outputList.append(\"Canine Distemper\")\n",
    "              \n",
    "    elif([ele for ele in ['Lossofappetite', 'Abdominalpain', 'Abdominalbloating', 'Bloodydiarrhea', 'Diarrhea', 'Vomiting', 'Dehydration'] if(ele in item)]):\n",
    "        outputList.append(\"Canine Parvovirus\")\n",
    "        \n",
    "        \n",
    "        \n",
    "    elif([ele for ele in ['Coughing', 'Dyspnea'] if(ele in item)]):\n",
    "        outputList.append(\"Canine Heartworm\")\n",
    "        \n",
    "        \n",
    "        \n",
    "    elif([ele for ele in ['Coughing', 'Dyspnea'] if(ele in item)]):\n",
    "        outputList.append(\"Canine Distemper\")\n",
    "        \n",
    "        \n",
    "        \n",
    "    elif([ele for ele in ['Coughing', 'Dyspnea'] if(ele in item)]):\n",
    "        outputList.append(\"Canine Distemper\")\n",
    "\n",
    "        \n",
    "        \n",
    "print(outputList)"
   ]
  }
 ],
 "metadata": {
  "kernelspec": {
   "display_name": "Python 3",
   "language": "python",
   "name": "python3"
  },
  "language_info": {
   "codemirror_mode": {
    "name": "ipython",
    "version": 3
   },
   "file_extension": ".py",
   "mimetype": "text/x-python",
   "name": "python",
   "nbconvert_exporter": "python",
   "pygments_lexer": "ipython3",
   "version": "3.6.13"
  }
 },
 "nbformat": 4,
 "nbformat_minor": 5
}
