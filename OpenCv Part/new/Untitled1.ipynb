{
 "cells": [
  {
   "cell_type": "code",
   "execution_count": null,
   "id": "7884ede9",
   "metadata": {},
   "outputs": [],
   "source": []
  },
  {
   "cell_type": "code",
   "execution_count": 1,
   "id": "594bbdfe",
   "metadata": {},
   "outputs": [
    {
     "name": "stdout",
     "output_type": "stream",
     "text": [
      "Dots number: 33\n"
     ]
    }
   ],
   "source": [
    "import cv2\n",
    "gray = cv2.imread(\"img/3.jpg\", 0)\n",
    "\n",
    "## threshold\n",
    "th, threshed = cv2.threshold(gray, 100, 255,cv2.THRESH_BINARY_INV|cv2.THRESH_OTSU)\n",
    "\n",
    "## findcontours\n",
    "cnts = cv2.findContours(threshed, cv2.RETR_LIST, cv2.CHAIN_APPROX_SIMPLE)[-2]\n",
    "\n",
    "\n",
    "## filter by area\n",
    "s1= 3\n",
    "s2 = 20\n",
    "xcnts = []\n",
    "for cnt in cnts:\n",
    "    if s1<cv2.contourArea(cnt) <s2:\n",
    "        xcnts.append(cnt)\n",
    "\n",
    "print(\"Dots number: {}\".format(len(xcnts)))"
   ]
  },
  {
   "cell_type": "code",
   "execution_count": null,
   "id": "856bf709",
   "metadata": {},
   "outputs": [],
   "source": []
  }
 ],
 "metadata": {
  "kernelspec": {
   "display_name": "Python 3",
   "language": "python",
   "name": "python3"
  },
  "language_info": {
   "codemirror_mode": {
    "name": "ipython",
    "version": 3
   },
   "file_extension": ".py",
   "mimetype": "text/x-python",
   "name": "python",
   "nbconvert_exporter": "python",
   "pygments_lexer": "ipython3",
   "version": "3.6.13"
  }
 },
 "nbformat": 4,
 "nbformat_minor": 5
}
