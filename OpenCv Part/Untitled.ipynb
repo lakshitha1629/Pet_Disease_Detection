{
 "cells": [
  {
   "cell_type": "code",
   "execution_count": 34,
   "id": "89d48472",
   "metadata": {},
   "outputs": [],
   "source": [
    "def predict_mpg(preValueList):\n",
    "    valueList = [x.replace(' ', '') for x in preValueList]\n",
    "    outputList = []\n",
    "\n",
    "    for item in valueList:\n",
    "        if([ele1 for ele1 in ['Diarrhea', 'Emaciation', 'Seizures', 'Lossofappetite', 'Failuretothrive', 'Lossofappetite', 'Intestinalblockages', 'Intestinalcompliations', 'Tapewormsinfeces'] if(ele1 in item)]):\n",
    "            outputList.append(\"Feline Ringworms\")\n",
    "            \n",
    "        elif([ele for ele in ['Hairloss', 'Itchiness', 'Flakyskin', 'Irritatedskin', 'Redskin']if(ele in item)]):\n",
    "            outputList.append(\"Feline Mange\")\n",
    "            \n",
    "        elif([ele2 for ele2 in ['Diarrhea', 'Emaciation', 'Seizures', 'Shaggycoat', 'Lossofappetite', 'Failuretothrive', 'Lossofappetite', 'Intestinalblockages', 'Intestinalcompliations', 'Tapewormsinfeces'] if(ele2 in item)]):\n",
    "            outputList.append(\"Feline Tapeworms\")\n",
    "            \n",
    "        elif([ele3 for ele3 in ['Ascites(Swellingofabdomen)', 'Lethargy', 'Lossofappetite', 'Increasedthrist', 'Frequenturination', 'Weightloss', 'Vomiting', 'Diarrhea', 'Diarrhea', 'Yellowskin', 'Yelloweyes', 'Yellowgums', 'Excessivedrooling'] if(ele3 in item)]):\n",
    "            outputList.append(\"Feline Liver Disease\")\n",
    "            \n",
    "        elif([ele4 for ele4 in ['Strainingtourinate', 'Urinatingsmallamounts', 'Frequentattemptstourinate', 'Prolongedattemptstourinate', 'Cryingoutwhileurinating', 'Excessivelickingofgenitalareas', 'Urinatingoutsidethelitterbox', 'Bloodinurine', 'Distress'] if(ele4 in item)]):\n",
    "            outputList.append(\"Feline Lower Urinary Tract Disease (FLUTD)\")\n",
    "                \n",
    "        elif([ele5 for ele5 in ['Fever', 'Lethargy', 'Lossofappetite', 'Weakness', 'Paralysisofhindlegs', 'Seizures', 'Drooling', 'Aggression', 'Depression', 'Coma', 'Lossofmusclecontrol', 'Foamingatmouth', 'Suddendeath'] if(ele5 in item)]):\n",
    "            outputList.append(\"Feline Rabies\")\n",
    "            \n",
    "        elif([ele6 for ele6 in ['Anemia', 'Fever', 'Lethargy', 'Lossofappetite', 'Weightloss', 'Musclestiffness', 'Fever', 'Jointpain', 'Swellinginjoints', 'Increasedthirst', 'Frequenturination', 'Ulcer', 'Twitching', 'Seizures', 'Twitching', 'Hairloss', 'Skincolorchanges', 'Crustyskin'] if(ele6 in item)]):\n",
    "            outputList.append(\"Canine Lupus\")\n",
    "            \n",
    "        elif([ele7 for ele7 in ['Pimple-likelesions', 'Acne', 'Rash', 'Inflamedskin', 'Pusfilledblisters', 'Hairloss', 'Crustyskin', 'Scratchinginfectedareas', 'Lickinginfectedareas', 'Bitinginfectedareas', 'Depression', 'Weightloss'] if(ele7 in item)]):\n",
    "            outputList.append(\"Canine Impetigo\")\n",
    "                    \n",
    "        elif([ele8 for ele8 in ['Hairloss', 'Irritatedskin', 'Rash', 'Thickyellowcrusts', 'Bacteriainfection', 'Yeastinfection', 'Itchiness', 'Thickeningofskin', 'Lymphnodeinflammation', 'Emaciation'] if(ele8 in item)]):\n",
    "            outputList.append(\"Canine Mange\")\n",
    "                \n",
    "        elif([ele for ele in ['Coughing', 'Dyspnea', 'Pneumonia', 'Diarrhea', 'Vomiting', 'Purulentnasaldischarge', 'Enamelhypoplasia', 'Hyperkeratosis', 'Circling', 'Headtilt', 'Nystagmus', 'Partialparalysis', 'Completeparalysis', 'Convulsion', 'Dementia', 'Involuntaryjerkytwitching', 'Musclescontraction', 'Convulsioncontraction'] if(ele in item)]):\n",
    "            outputList.append(\"Canine Distemper\")\n",
    "                \n",
    "        elif([ele for ele in ['Lossofappetite', 'Abdominalpain', 'Abdominalbloating', 'Bloodydiarrhea', 'Diarrhea', 'Vomiting', 'Dehydration'] if(ele in item)]):\n",
    "            outputList.append(\"Canine Parvovirus\")\n",
    "            \n",
    "        elif([ele for ele in ['Laboredbreathing', 'Coughing', 'Vomiting', 'Weightloss', 'Weakness', 'Coughing', 'Fatigue'] if(ele in item)]):\n",
    "            outputList.append(\"Canine Heartworm\")\n",
    "            \n",
    "        elif([ele for ele in ['Restlessness', 'Aggression', 'Irritability', 'Apprehension', 'Biting', 'Snappingatanyformofstimulus', 'Licking', 'Chewing', 'Fever', 'Hidingindarkplaces', 'Eatingunusualobjects', 'Paralysisofthroat', 'Paralysisofthroat', 'Paralysisofjawmuscles', 'Foamingatmouth', 'Disorientation', 'Incoordination', 'Staggering', 'Paralysisofhindlegs', 'Lossofappetite', 'Weakness', 'Seizures', 'Suddendeath'] if(ele in item)]):\n",
    "            outputList.append(\"Canine Rabies\")\n",
    "        else:\n",
    "            outputList.append(\"out of range\")\n",
    "\n",
    "    return outputList\n",
    "        \n",
    "        \n"
   ]
  },
  {
   "cell_type": "code",
   "execution_count": 37,
   "id": "8e377cfc",
   "metadata": {},
   "outputs": [
    {
     "name": "stdout",
     "output_type": "stream",
     "text": [
      "['Canine Parvovirus', 'Canine Impetigo']\n"
     ]
    }
   ],
   "source": [
    "dict = [{\"id\":2,\"name\":\"Abdominal pain\"},{\"id\":3,\"name\":\"Acne\"}]\n",
    "test = []\n",
    "for x in dict:\n",
    "    test.append(x[\"name\"])\n",
    "    \n",
    "print(predict_mpg(test))"
   ]
  },
  {
   "cell_type": "code",
   "execution_count": null,
   "id": "253420ea",
   "metadata": {},
   "outputs": [],
   "source": []
  }
 ],
 "metadata": {
  "kernelspec": {
   "display_name": "Python 3",
   "language": "python",
   "name": "python3"
  },
  "language_info": {
   "codemirror_mode": {
    "name": "ipython",
    "version": 3
   },
   "file_extension": ".py",
   "mimetype": "text/x-python",
   "name": "python",
   "nbconvert_exporter": "python",
   "pygments_lexer": "ipython3",
   "version": "3.6.13"
  }
 },
 "nbformat": 4,
 "nbformat_minor": 5
}
