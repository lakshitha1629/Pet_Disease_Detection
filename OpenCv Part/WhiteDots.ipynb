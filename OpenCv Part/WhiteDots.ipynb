{
 "cells": [
  {
   "cell_type": "code",
   "execution_count": null,
   "id": "05196269",
   "metadata": {},
   "outputs": [],
   "source": [
    "import cv2\n",
    "import sys"
   ]
  },
  {
   "cell_type": "code",
   "execution_count": 1,
   "id": "5b25d003",
   "metadata": {},
   "outputs": [
    {
     "name": "stdout",
     "output_type": "stream",
     "text": [
      "97\n"
     ]
    }
   ],
   "source": [
    "filename = \"img/3.PNG\"\n",
    "\n",
    "OriginalImage = cv2.imread(filename)\n",
    "blue = OriginalImage[:, :, 0]\n",
    "thresh = cv2.threshold(blue,210,255, cv2.THRESH_BINARY)[1]\n",
    "cnts = cv2.findContours(thresh, cv2.RETR_EXTERNAL, cv2.CHAIN_APPROX_SIMPLE)\n",
    "cnts = cnts[0] if len(cnts) == 2 else cnts[1]\n",
    "min_area = 0\n",
    "white_dots = []\n",
    "for c in cnts:\n",
    "    area = cv2.contourArea(c)\n",
    "    if area > min_area:\n",
    "        cv2.drawContours(OriginalImage, [c], -1, (220, 20, 60), 2)\n",
    "        white_dots.append(c)\n",
    "        \n",
    "print(len(white_dots))\n",
    "cv2.imshow(\"White Dots Image\", OriginalImage)\n",
    "\n",
    "cv2.waitKey(0)  \n",
    "cv2.destroyAllWindows() "
   ]
  },
  {
   "cell_type": "code",
   "execution_count": null,
   "id": "d6fd0ca1",
   "metadata": {},
   "outputs": [],
   "source": []
  }
 ],
 "metadata": {
  "kernelspec": {
   "display_name": "Python 3 (ipykernel)",
   "language": "python",
   "name": "python3"
  },
  "language_info": {
   "codemirror_mode": {
    "name": "ipython",
    "version": 3
   },
   "file_extension": ".py",
   "mimetype": "text/x-python",
   "name": "python",
   "nbconvert_exporter": "python",
   "pygments_lexer": "ipython3",
   "version": "3.8.12"
  }
 },
 "nbformat": 4,
 "nbformat_minor": 5
}
